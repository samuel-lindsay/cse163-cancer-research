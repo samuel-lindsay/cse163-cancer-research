{
 "cells": [
  {
   "cell_type": "code",
   "execution_count": 1,
   "metadata": {},
   "outputs": [
    {
     "data": {
      "text/plain": [
       "'c:\\\\Users\\\\Sam\\\\Documents\\\\School\\\\Year 4 Quarter 2\\\\CSE 163\\\\Final\\\\cse-163-final'"
      ]
     },
     "execution_count": 1,
     "metadata": {},
     "output_type": "execute_result"
    }
   ],
   "source": [
    "import pandas as pd\n",
    "import numpy as np\n",
    "import geopandas as gpd\n",
    "import os\n",
    "os.getcwd()"
   ]
  },
  {
   "cell_type": "code",
   "execution_count": 2,
   "metadata": {},
   "outputs": [],
   "source": [
    "byage = pd.read_csv(\"data\\\\USCS-1999-2018-ASCII\\\\BYAGE.TXT\", sep=\"|\", low_memory=False)\n",
    "byarea = pd.read_csv(\"data\\\\USCS-1999-2018-ASCII\\\\BYAREA.TXT\", sep=\"|\", low_memory=False)\n",
    "bycounty = pd.read_csv(\"data\\\\USCS-1999-2018-ASCII\\\\BYAREA_COUNTY.TXT\", sep=\"|\", low_memory=False)"
   ]
  },
  {
   "cell_type": "code",
   "execution_count": 64,
   "metadata": {},
   "outputs": [],
   "source": [
    "bycounty.head()\n",
    "bycounty = bycounty[((bycounty != \"~\" ) & (bycounty != \".\") & (bycounty != \"+\") & (bycounty != '-')).all(1)]"
   ]
  },
  {
   "cell_type": "code",
   "execution_count": 68,
   "metadata": {},
   "outputs": [],
   "source": [
    "bycounty.columns\n",
    "bycounty = bycounty[['STATE', 'AREA', 'AGE_ADJUSTED_RATE','EVENT_TYPE', 'RACE', 'SEX', 'SITE', 'YEAR']]\n",
    "bycounty = bycounty.astype({'AGE_ADJUSTED_RATE':'float32'})"
   ]
  },
  {
   "cell_type": "code",
   "execution_count": 69,
   "metadata": {},
   "outputs": [],
   "source": [
    "bycounty_mortality = bycounty[bycounty[\"EVENT_TYPE\"] == \"Mortality\"]\n",
    "bycounty_incidence = bycounty[bycounty[\"EVENT_TYPE\"] == \"Incidence\"]\n",
    "bycounty_joined = pd.merge(bycounty_mortality, bycounty_incidence, how='inner', on=[\"RACE\",\"SEX\",\"SITE\",\"YEAR\",\"AREA\", \"STATE\"])\n"
   ]
  },
  {
   "cell_type": "code",
   "execution_count": 73,
   "metadata": {},
   "outputs": [
    {
     "data": {
      "text/html": [
       "<div>\n",
       "<style scoped>\n",
       "    .dataframe tbody tr th:only-of-type {\n",
       "        vertical-align: middle;\n",
       "    }\n",
       "\n",
       "    .dataframe tbody tr th {\n",
       "        vertical-align: top;\n",
       "    }\n",
       "\n",
       "    .dataframe thead th {\n",
       "        text-align: right;\n",
       "    }\n",
       "</style>\n",
       "<table border=\"1\" class=\"dataframe\">\n",
       "  <thead>\n",
       "    <tr style=\"text-align: right;\">\n",
       "      <th></th>\n",
       "      <th>STATE</th>\n",
       "      <th>AREA</th>\n",
       "      <th>AGE_ADJUSTED_RATE_x</th>\n",
       "      <th>EVENT_TYPE_x</th>\n",
       "      <th>RACE</th>\n",
       "      <th>SEX</th>\n",
       "      <th>SITE</th>\n",
       "      <th>YEAR</th>\n",
       "      <th>AGE_ADJUSTED_RATE_y</th>\n",
       "      <th>EVENT_TYPE_y</th>\n",
       "      <th>MIR</th>\n",
       "    </tr>\n",
       "  </thead>\n",
       "  <tbody>\n",
       "    <tr>\n",
       "      <th>108950</th>\n",
       "      <td>WA</td>\n",
       "      <td>WA: Adams County (53001)</td>\n",
       "      <td>99.900002</td>\n",
       "      <td>Mortality</td>\n",
       "      <td>All Races</td>\n",
       "      <td>Female</td>\n",
       "      <td>All Cancer Sites Combined</td>\n",
       "      <td>2014-2018</td>\n",
       "      <td>309.799988</td>\n",
       "      <td>Incidence</td>\n",
       "      <td>0.322466</td>\n",
       "    </tr>\n",
       "    <tr>\n",
       "      <th>108951</th>\n",
       "      <td>WA</td>\n",
       "      <td>WA: Adams County (53001)</td>\n",
       "      <td>171.399994</td>\n",
       "      <td>Mortality</td>\n",
       "      <td>All Races</td>\n",
       "      <td>Male</td>\n",
       "      <td>All Cancer Sites Combined</td>\n",
       "      <td>2014-2018</td>\n",
       "      <td>419.200012</td>\n",
       "      <td>Incidence</td>\n",
       "      <td>0.408874</td>\n",
       "    </tr>\n",
       "    <tr>\n",
       "      <th>108952</th>\n",
       "      <td>WA</td>\n",
       "      <td>WA: Adams County (53001)</td>\n",
       "      <td>134.699997</td>\n",
       "      <td>Mortality</td>\n",
       "      <td>All Races</td>\n",
       "      <td>Male and Female</td>\n",
       "      <td>All Cancer Sites Combined</td>\n",
       "      <td>2014-2018</td>\n",
       "      <td>363.299988</td>\n",
       "      <td>Incidence</td>\n",
       "      <td>0.370768</td>\n",
       "    </tr>\n",
       "    <tr>\n",
       "      <th>108953</th>\n",
       "      <td>WA</td>\n",
       "      <td>WA: Adams County (53001)</td>\n",
       "      <td>36.099998</td>\n",
       "      <td>Mortality</td>\n",
       "      <td>All Races</td>\n",
       "      <td>Male and Female</td>\n",
       "      <td>Lung and Bronchus</td>\n",
       "      <td>2014-2018</td>\n",
       "      <td>43.000000</td>\n",
       "      <td>Incidence</td>\n",
       "      <td>0.839535</td>\n",
       "    </tr>\n",
       "    <tr>\n",
       "      <th>108954</th>\n",
       "      <td>WA</td>\n",
       "      <td>WA: Adams County (53001)</td>\n",
       "      <td>71.800003</td>\n",
       "      <td>Mortality</td>\n",
       "      <td>Hispanic</td>\n",
       "      <td>Male and Female</td>\n",
       "      <td>All Cancer Sites Combined</td>\n",
       "      <td>2014-2018</td>\n",
       "      <td>314.299988</td>\n",
       "      <td>Incidence</td>\n",
       "      <td>0.228444</td>\n",
       "    </tr>\n",
       "  </tbody>\n",
       "</table>\n",
       "</div>"
      ],
      "text/plain": [
       "       STATE                      AREA  AGE_ADJUSTED_RATE_x EVENT_TYPE_x  \\\n",
       "108950    WA  WA: Adams County (53001)            99.900002    Mortality   \n",
       "108951    WA  WA: Adams County (53001)           171.399994    Mortality   \n",
       "108952    WA  WA: Adams County (53001)           134.699997    Mortality   \n",
       "108953    WA  WA: Adams County (53001)            36.099998    Mortality   \n",
       "108954    WA  WA: Adams County (53001)            71.800003    Mortality   \n",
       "\n",
       "             RACE              SEX                       SITE       YEAR  \\\n",
       "108950  All Races           Female  All Cancer Sites Combined  2014-2018   \n",
       "108951  All Races             Male  All Cancer Sites Combined  2014-2018   \n",
       "108952  All Races  Male and Female  All Cancer Sites Combined  2014-2018   \n",
       "108953  All Races  Male and Female          Lung and Bronchus  2014-2018   \n",
       "108954   Hispanic  Male and Female  All Cancer Sites Combined  2014-2018   \n",
       "\n",
       "        AGE_ADJUSTED_RATE_y EVENT_TYPE_y       MIR  \n",
       "108950           309.799988    Incidence  0.322466  \n",
       "108951           419.200012    Incidence  0.408874  \n",
       "108952           363.299988    Incidence  0.370768  \n",
       "108953            43.000000    Incidence  0.839535  \n",
       "108954           314.299988    Incidence  0.228444  "
      ]
     },
     "execution_count": 73,
     "metadata": {},
     "output_type": "execute_result"
    }
   ],
   "source": [
    "bycounty_joined[\"MIR\"] = bycounty_joined[\"AGE_ADJUSTED_RATE_x\"]/bycounty_joined[\"AGE_ADJUSTED_RATE_y\"]\n",
    "bycounty_joined[bycounty_joined[\"STATE\"]==\"WA\"].head()"
   ]
  },
  {
   "cell_type": "code",
   "execution_count": null,
   "metadata": {},
   "outputs": [],
   "source": []
  }
 ],
 "metadata": {
  "interpreter": {
   "hash": "3f05f904208be84caf8b657309614a48fcf696a50650fab2e63768aa325b810b"
  },
  "kernelspec": {
   "display_name": "Python 3.7.1 ('base')",
   "language": "python",
   "name": "python3"
  },
  "language_info": {
   "codemirror_mode": {
    "name": "ipython",
    "version": 3
   },
   "file_extension": ".py",
   "mimetype": "text/x-python",
   "name": "python",
   "nbconvert_exporter": "python",
   "pygments_lexer": "ipython3",
   "version": "3.8.12"
  },
  "orig_nbformat": 4
 },
 "nbformat": 4,
 "nbformat_minor": 2
}
